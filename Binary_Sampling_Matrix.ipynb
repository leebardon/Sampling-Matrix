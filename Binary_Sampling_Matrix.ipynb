{
 "cells": [
  {
   "cell_type": "markdown",
   "metadata": {},
   "source": [
    "<h1> Building a Binary Sampling Matrix </h1>"
   ]
  },
  {
   "cell_type": "markdown",
   "metadata": {},
   "source": [
    "<h2> Data Overview </h2>"
   ]
  },
  {
   "cell_type": "code",
   "execution_count": 86,
   "metadata": {},
   "outputs": [],
   "source": [
    "import xarray as xr\n",
    "\n",
    "flom_ds = xr.open_dataset('/Users/leebardon/Desktop/stats_vs_gcm/stats_vs_gcm_data/flom_global_obs.netcdf')\n",
    "flom_df = flom_ds.to_dataframe()"
   ]
  },
  {
   "cell_type": "code",
   "execution_count": 66,
   "metadata": {},
   "outputs": [
    {
     "data": {
      "text/html": [
       "<div>\n",
       "<style scoped>\n",
       "    .dataframe tbody tr th:only-of-type {\n",
       "        vertical-align: middle;\n",
       "    }\n",
       "\n",
       "    .dataframe tbody tr th {\n",
       "        vertical-align: top;\n",
       "    }\n",
       "\n",
       "    .dataframe thead th {\n",
       "        text-align: right;\n",
       "    }\n",
       "</style>\n",
       "<table border=\"1\" class=\"dataframe\">\n",
       "  <thead>\n",
       "    <tr style=\"text-align: right;\">\n",
       "      <th></th>\n",
       "      <th>Year</th>\n",
       "      <th>Day</th>\n",
       "      <th>Latitude</th>\n",
       "      <th>Longitude</th>\n",
       "      <th>Nitrite_Nitrate</th>\n",
       "      <th>Phosphate</th>\n",
       "      <th>Temperature</th>\n",
       "      <th>Depth</th>\n",
       "      <th>Prochlorococcus</th>\n",
       "      <th>Synechococcus</th>\n",
       "      <th>Pico_eukaryotes</th>\n",
       "    </tr>\n",
       "    <tr>\n",
       "      <th>unlimited</th>\n",
       "      <th></th>\n",
       "      <th></th>\n",
       "      <th></th>\n",
       "      <th></th>\n",
       "      <th></th>\n",
       "      <th></th>\n",
       "      <th></th>\n",
       "      <th></th>\n",
       "      <th></th>\n",
       "      <th></th>\n",
       "      <th></th>\n",
       "    </tr>\n",
       "  </thead>\n",
       "  <tbody>\n",
       "    <tr>\n",
       "      <th>0</th>\n",
       "      <td>1997.0</td>\n",
       "      <td>8.0</td>\n",
       "      <td>16.370</td>\n",
       "      <td>119.95</td>\n",
       "      <td>b''</td>\n",
       "      <td>b''</td>\n",
       "      <td>b''</td>\n",
       "      <td>0.5</td>\n",
       "      <td>b''</td>\n",
       "      <td>39770.0</td>\n",
       "      <td>b''</td>\n",
       "    </tr>\n",
       "    <tr>\n",
       "      <th>1</th>\n",
       "      <td>1997.0</td>\n",
       "      <td>9.0</td>\n",
       "      <td>16.348</td>\n",
       "      <td>119.93</td>\n",
       "      <td>b''</td>\n",
       "      <td>b''</td>\n",
       "      <td>b''</td>\n",
       "      <td>0.5</td>\n",
       "      <td>b''</td>\n",
       "      <td>15000.0</td>\n",
       "      <td>b''</td>\n",
       "    </tr>\n",
       "    <tr>\n",
       "      <th>2</th>\n",
       "      <td>1997.0</td>\n",
       "      <td>14.0</td>\n",
       "      <td>16.460</td>\n",
       "      <td>119.92</td>\n",
       "      <td>b''</td>\n",
       "      <td>b''</td>\n",
       "      <td>b''</td>\n",
       "      <td>0.5</td>\n",
       "      <td>b''</td>\n",
       "      <td>880.0</td>\n",
       "      <td>b''</td>\n",
       "    </tr>\n",
       "    <tr>\n",
       "      <th>3</th>\n",
       "      <td>1997.0</td>\n",
       "      <td>15.0</td>\n",
       "      <td>16.380</td>\n",
       "      <td>119.91</td>\n",
       "      <td>b''</td>\n",
       "      <td>b''</td>\n",
       "      <td>b''</td>\n",
       "      <td>0.5</td>\n",
       "      <td>b''</td>\n",
       "      <td>950.0</td>\n",
       "      <td>b''</td>\n",
       "    </tr>\n",
       "    <tr>\n",
       "      <th>4</th>\n",
       "      <td>1997.0</td>\n",
       "      <td>24.0</td>\n",
       "      <td>16.348</td>\n",
       "      <td>119.93</td>\n",
       "      <td>b''</td>\n",
       "      <td>b''</td>\n",
       "      <td>b''</td>\n",
       "      <td>0.5</td>\n",
       "      <td>b''</td>\n",
       "      <td>2730.0</td>\n",
       "      <td>b''</td>\n",
       "    </tr>\n",
       "  </tbody>\n",
       "</table>\n",
       "</div>"
      ],
      "text/plain": [
       "             Year   Day  Latitude  Longitude Nitrite_Nitrate Phosphate  \\\n",
       "unlimited                                                                \n",
       "0          1997.0   8.0    16.370     119.95             b''       b''   \n",
       "1          1997.0   9.0    16.348     119.93             b''       b''   \n",
       "2          1997.0  14.0    16.460     119.92             b''       b''   \n",
       "3          1997.0  15.0    16.380     119.91             b''       b''   \n",
       "4          1997.0  24.0    16.348     119.93             b''       b''   \n",
       "\n",
       "          Temperature  Depth Prochlorococcus  Synechococcus Pico_eukaryotes  \n",
       "unlimited                                                                    \n",
       "0                 b''    0.5             b''        39770.0             b''  \n",
       "1                 b''    0.5             b''        15000.0             b''  \n",
       "2                 b''    0.5             b''          880.0             b''  \n",
       "3                 b''    0.5             b''          950.0             b''  \n",
       "4                 b''    0.5             b''         2730.0             b''  "
      ]
     },
     "execution_count": 66,
     "metadata": {},
     "output_type": "execute_result"
    }
   ],
   "source": [
    "flom_df.head()"
   ]
  },
  {
   "cell_type": "code",
   "execution_count": 68,
   "metadata": {},
   "outputs": [
    {
     "data": {
      "text/plain": [
       "Year               59554\n",
       "Day                59554\n",
       "Latitude           59554\n",
       "Longitude          59554\n",
       "Nitrite_Nitrate    59554\n",
       "Phosphate          59554\n",
       "Temperature        59554\n",
       "Depth              59554\n",
       "Prochlorococcus    59554\n",
       "Synechococcus      59554\n",
       "Pico_eukaryotes    59554\n",
       "dtype: int64"
      ]
     },
     "execution_count": 68,
     "metadata": {},
     "output_type": "execute_result"
    }
   ],
   "source": [
    "flom_df.count()"
   ]
  },
  {
   "cell_type": "markdown",
   "metadata": {},
   "source": [
    "<h1> Cleaning the Data </h1> \n"
   ]
  },
  {
   "cell_type": "markdown",
   "metadata": {},
   "source": [
    "We immediately note that several of these columns are in a bytes-like format that we should decode, and coerce into a float datatype. Once we have processed these columns accordingly, we can proceed to examining the data in more detail. "
   ]
  },
  {
   "cell_type": "markdown",
   "metadata": {},
   "source": [
    "<h3> Decoding Bytes Objects </h3>"
   ]
  },
  {
   "cell_type": "code",
   "execution_count": 87,
   "metadata": {},
   "outputs": [],
   "source": [
    "def decode_row(row):\n",
    "    row = row.decode('utf-8')\n",
    "    return row\n",
    "\n",
    "cols_to_decode = [ flom_df[\"Phosphate\"],\n",
    "                   flom_df[\"Nitrite_Nitrate\"], \n",
    "                   flom_df[\"Temperature\"], \n",
    "                   flom_df[\"Prochlorococcus\"], \n",
    "                   flom_df[\"Pico_eukaryotes\"] ]\n",
    "decoded_col = []\n",
    "\n",
    "def decode_column(col): \n",
    "    for row in col:\n",
    "        row = decode_row(row)\n",
    "        decoded_col.append(row)\n",
    "        \n",
    "for col in cols_to_decode:\n",
    "    decode_column(col)\n",
    "    flom_df[f'{col.name}'] = decoded_col\n",
    "    decoded_col.clear()\n",
    "    "
   ]
  },
  {
   "cell_type": "code",
   "execution_count": 91,
   "metadata": {},
   "outputs": [
    {
     "data": {
      "text/html": [
       "<div>\n",
       "<style scoped>\n",
       "    .dataframe tbody tr th:only-of-type {\n",
       "        vertical-align: middle;\n",
       "    }\n",
       "\n",
       "    .dataframe tbody tr th {\n",
       "        vertical-align: top;\n",
       "    }\n",
       "\n",
       "    .dataframe thead th {\n",
       "        text-align: right;\n",
       "    }\n",
       "</style>\n",
       "<table border=\"1\" class=\"dataframe\">\n",
       "  <thead>\n",
       "    <tr style=\"text-align: right;\">\n",
       "      <th></th>\n",
       "      <th>Year</th>\n",
       "      <th>Day</th>\n",
       "      <th>Latitude</th>\n",
       "      <th>Longitude</th>\n",
       "      <th>Nitrite_Nitrate</th>\n",
       "      <th>Phosphate</th>\n",
       "      <th>Temperature</th>\n",
       "      <th>Depth</th>\n",
       "      <th>Prochlorococcus</th>\n",
       "      <th>Synechococcus</th>\n",
       "      <th>Pico_eukaryotes</th>\n",
       "    </tr>\n",
       "    <tr>\n",
       "      <th>unlimited</th>\n",
       "      <th></th>\n",
       "      <th></th>\n",
       "      <th></th>\n",
       "      <th></th>\n",
       "      <th></th>\n",
       "      <th></th>\n",
       "      <th></th>\n",
       "      <th></th>\n",
       "      <th></th>\n",
       "      <th></th>\n",
       "      <th></th>\n",
       "    </tr>\n",
       "  </thead>\n",
       "  <tbody>\n",
       "    <tr>\n",
       "      <th>59549</th>\n",
       "      <td>1994.0</td>\n",
       "      <td>178.0</td>\n",
       "      <td>43.830556</td>\n",
       "      <td>297.180556</td>\n",
       "      <td>8.58</td>\n",
       "      <td>0.87</td>\n",
       "      <td>3.54</td>\n",
       "      <td>42.0</td>\n",
       "      <td></td>\n",
       "      <td>9.969210e+36</td>\n",
       "      <td>4040</td>\n",
       "    </tr>\n",
       "    <tr>\n",
       "      <th>59550</th>\n",
       "      <td>1994.0</td>\n",
       "      <td>178.0</td>\n",
       "      <td>43.830556</td>\n",
       "      <td>297.180556</td>\n",
       "      <td>20.09</td>\n",
       "      <td>1.24</td>\n",
       "      <td>6.92</td>\n",
       "      <td>63.0</td>\n",
       "      <td></td>\n",
       "      <td>9.969210e+36</td>\n",
       "      <td>274.9</td>\n",
       "    </tr>\n",
       "    <tr>\n",
       "      <th>59551</th>\n",
       "      <td>1994.0</td>\n",
       "      <td>178.0</td>\n",
       "      <td>43.830556</td>\n",
       "      <td>297.180556</td>\n",
       "      <td></td>\n",
       "      <td></td>\n",
       "      <td>8.38</td>\n",
       "      <td>75.0</td>\n",
       "      <td></td>\n",
       "      <td>9.969210e+36</td>\n",
       "      <td></td>\n",
       "    </tr>\n",
       "    <tr>\n",
       "      <th>59552</th>\n",
       "      <td>1994.0</td>\n",
       "      <td>178.0</td>\n",
       "      <td>43.830556</td>\n",
       "      <td>297.180556</td>\n",
       "      <td>27.32</td>\n",
       "      <td>1.25</td>\n",
       "      <td>9.8</td>\n",
       "      <td>100.0</td>\n",
       "      <td></td>\n",
       "      <td>9.969210e+36</td>\n",
       "      <td>113900</td>\n",
       "    </tr>\n",
       "    <tr>\n",
       "      <th>59553</th>\n",
       "      <td>1994.0</td>\n",
       "      <td>178.0</td>\n",
       "      <td>43.830556</td>\n",
       "      <td>297.180556</td>\n",
       "      <td>38.82</td>\n",
       "      <td>1.48</td>\n",
       "      <td>10.42</td>\n",
       "      <td>200.0</td>\n",
       "      <td></td>\n",
       "      <td>9.969210e+36</td>\n",
       "      <td></td>\n",
       "    </tr>\n",
       "  </tbody>\n",
       "</table>\n",
       "</div>"
      ],
      "text/plain": [
       "             Year    Day   Latitude   Longitude Nitrite_Nitrate Phosphate  \\\n",
       "unlimited                                                                   \n",
       "59549      1994.0  178.0  43.830556  297.180556            8.58      0.87   \n",
       "59550      1994.0  178.0  43.830556  297.180556           20.09      1.24   \n",
       "59551      1994.0  178.0  43.830556  297.180556                             \n",
       "59552      1994.0  178.0  43.830556  297.180556           27.32      1.25   \n",
       "59553      1994.0  178.0  43.830556  297.180556           38.82      1.48   \n",
       "\n",
       "          Temperature  Depth Prochlorococcus  Synechococcus Pico_eukaryotes  \n",
       "unlimited                                                                    \n",
       "59549            3.54   42.0                   9.969210e+36            4040  \n",
       "59550            6.92   63.0                   9.969210e+36           274.9  \n",
       "59551            8.38   75.0                   9.969210e+36                  \n",
       "59552             9.8  100.0                   9.969210e+36          113900  \n",
       "59553           10.42  200.0                   9.969210e+36                  "
      ]
     },
     "execution_count": 91,
     "metadata": {},
     "output_type": "execute_result"
    }
   ],
   "source": [
    "flom_df.tail()"
   ]
  },
  {
   "cell_type": "markdown",
   "metadata": {},
   "source": [
    "<h3> Coercing Strings to Floats </h3>\n",
    "\n",
    "Decoding in this way returns the data as a string type, so we have a combination of empty and non-empty strings. Here, we will convert all non-empty strings to floats, and all empty strings to the NaN datatype, where NaN represents the lack of a measurement for a given value in that time/space.  "
   ]
  },
  {
   "cell_type": "code",
   "execution_count": 92,
   "metadata": {},
   "outputs": [],
   "source": [
    "import numpy as np\n",
    "\n",
    "converted_col = []\n",
    "\n",
    "def convert(col):\n",
    "    for row in col:\n",
    "        if row != \"\":\n",
    "            row = float(row)\n",
    "        else:\n",
    "            row = np.nan\n",
    "        converted_col.append(row)\n",
    "\n",
    "for col in cols_to_decode:\n",
    "    convert(col)\n",
    "    flom_df[f'{col.name}'] = converted_col\n",
    "    converted_col.clear()\n",
    "    "
   ]
  },
  {
   "cell_type": "code",
   "execution_count": 94,
   "metadata": {},
   "outputs": [
    {
     "data": {
      "text/html": [
       "<div>\n",
       "<style scoped>\n",
       "    .dataframe tbody tr th:only-of-type {\n",
       "        vertical-align: middle;\n",
       "    }\n",
       "\n",
       "    .dataframe tbody tr th {\n",
       "        vertical-align: top;\n",
       "    }\n",
       "\n",
       "    .dataframe thead th {\n",
       "        text-align: right;\n",
       "    }\n",
       "</style>\n",
       "<table border=\"1\" class=\"dataframe\">\n",
       "  <thead>\n",
       "    <tr style=\"text-align: right;\">\n",
       "      <th></th>\n",
       "      <th>Year</th>\n",
       "      <th>Day</th>\n",
       "      <th>Latitude</th>\n",
       "      <th>Longitude</th>\n",
       "      <th>Nitrite_Nitrate</th>\n",
       "      <th>Phosphate</th>\n",
       "      <th>Temperature</th>\n",
       "      <th>Depth</th>\n",
       "      <th>Prochlorococcus</th>\n",
       "      <th>Synechococcus</th>\n",
       "      <th>Pico_eukaryotes</th>\n",
       "    </tr>\n",
       "    <tr>\n",
       "      <th>unlimited</th>\n",
       "      <th></th>\n",
       "      <th></th>\n",
       "      <th></th>\n",
       "      <th></th>\n",
       "      <th></th>\n",
       "      <th></th>\n",
       "      <th></th>\n",
       "      <th></th>\n",
       "      <th></th>\n",
       "      <th></th>\n",
       "      <th></th>\n",
       "    </tr>\n",
       "  </thead>\n",
       "  <tbody>\n",
       "    <tr>\n",
       "      <th>59549</th>\n",
       "      <td>1994.0</td>\n",
       "      <td>178.0</td>\n",
       "      <td>43.830556</td>\n",
       "      <td>297.180556</td>\n",
       "      <td>8.58</td>\n",
       "      <td>0.87</td>\n",
       "      <td>3.54</td>\n",
       "      <td>42.0</td>\n",
       "      <td>NaN</td>\n",
       "      <td>9.969210e+36</td>\n",
       "      <td>4040.0</td>\n",
       "    </tr>\n",
       "    <tr>\n",
       "      <th>59550</th>\n",
       "      <td>1994.0</td>\n",
       "      <td>178.0</td>\n",
       "      <td>43.830556</td>\n",
       "      <td>297.180556</td>\n",
       "      <td>20.09</td>\n",
       "      <td>1.24</td>\n",
       "      <td>6.92</td>\n",
       "      <td>63.0</td>\n",
       "      <td>NaN</td>\n",
       "      <td>9.969210e+36</td>\n",
       "      <td>274.9</td>\n",
       "    </tr>\n",
       "    <tr>\n",
       "      <th>59551</th>\n",
       "      <td>1994.0</td>\n",
       "      <td>178.0</td>\n",
       "      <td>43.830556</td>\n",
       "      <td>297.180556</td>\n",
       "      <td>NaN</td>\n",
       "      <td>NaN</td>\n",
       "      <td>8.38</td>\n",
       "      <td>75.0</td>\n",
       "      <td>NaN</td>\n",
       "      <td>9.969210e+36</td>\n",
       "      <td>NaN</td>\n",
       "    </tr>\n",
       "    <tr>\n",
       "      <th>59552</th>\n",
       "      <td>1994.0</td>\n",
       "      <td>178.0</td>\n",
       "      <td>43.830556</td>\n",
       "      <td>297.180556</td>\n",
       "      <td>27.32</td>\n",
       "      <td>1.25</td>\n",
       "      <td>9.80</td>\n",
       "      <td>100.0</td>\n",
       "      <td>NaN</td>\n",
       "      <td>9.969210e+36</td>\n",
       "      <td>113900.0</td>\n",
       "    </tr>\n",
       "    <tr>\n",
       "      <th>59553</th>\n",
       "      <td>1994.0</td>\n",
       "      <td>178.0</td>\n",
       "      <td>43.830556</td>\n",
       "      <td>297.180556</td>\n",
       "      <td>38.82</td>\n",
       "      <td>1.48</td>\n",
       "      <td>10.42</td>\n",
       "      <td>200.0</td>\n",
       "      <td>NaN</td>\n",
       "      <td>9.969210e+36</td>\n",
       "      <td>NaN</td>\n",
       "    </tr>\n",
       "  </tbody>\n",
       "</table>\n",
       "</div>"
      ],
      "text/plain": [
       "             Year    Day   Latitude   Longitude  Nitrite_Nitrate  Phosphate  \\\n",
       "unlimited                                                                     \n",
       "59549      1994.0  178.0  43.830556  297.180556             8.58       0.87   \n",
       "59550      1994.0  178.0  43.830556  297.180556            20.09       1.24   \n",
       "59551      1994.0  178.0  43.830556  297.180556              NaN        NaN   \n",
       "59552      1994.0  178.0  43.830556  297.180556            27.32       1.25   \n",
       "59553      1994.0  178.0  43.830556  297.180556            38.82       1.48   \n",
       "\n",
       "           Temperature  Depth  Prochlorococcus  Synechococcus  Pico_eukaryotes  \n",
       "unlimited                                                                       \n",
       "59549             3.54   42.0              NaN   9.969210e+36           4040.0  \n",
       "59550             6.92   63.0              NaN   9.969210e+36            274.9  \n",
       "59551             8.38   75.0              NaN   9.969210e+36              NaN  \n",
       "59552             9.80  100.0              NaN   9.969210e+36         113900.0  \n",
       "59553            10.42  200.0              NaN   9.969210e+36              NaN  "
      ]
     },
     "execution_count": 94,
     "metadata": {},
     "output_type": "execute_result"
    }
   ],
   "source": [
    "flom_df.tail(5)"
   ]
  },
  {
   "cell_type": "markdown",
   "metadata": {},
   "source": [
    "<h1> Deeper Exploration </h1>  "
   ]
  },
  {
   "cell_type": "code",
   "execution_count": 85,
   "metadata": {},
   "outputs": [
    {
     "data": {
      "text/html": [
       "<div>\n",
       "<style scoped>\n",
       "    .dataframe tbody tr th:only-of-type {\n",
       "        vertical-align: middle;\n",
       "    }\n",
       "\n",
       "    .dataframe tbody tr th {\n",
       "        vertical-align: top;\n",
       "    }\n",
       "\n",
       "    .dataframe thead th {\n",
       "        text-align: right;\n",
       "    }\n",
       "</style>\n",
       "<table border=\"1\" class=\"dataframe\">\n",
       "  <thead>\n",
       "    <tr style=\"text-align: right;\">\n",
       "      <th></th>\n",
       "      <th>Year</th>\n",
       "      <th>Day</th>\n",
       "      <th>Latitude</th>\n",
       "      <th>Longitude</th>\n",
       "      <th>Nitrite_Nitrate</th>\n",
       "      <th>Phosphate</th>\n",
       "      <th>Temperature</th>\n",
       "      <th>Depth</th>\n",
       "      <th>Prochlorococcus</th>\n",
       "      <th>Synechococcus</th>\n",
       "      <th>Pico_eukaryotes</th>\n",
       "    </tr>\n",
       "  </thead>\n",
       "  <tbody>\n",
       "    <tr>\n",
       "      <th>count</th>\n",
       "      <td>5.955400e+04</td>\n",
       "      <td>5.955400e+04</td>\n",
       "      <td>5.955400e+04</td>\n",
       "      <td>5.955400e+04</td>\n",
       "      <td>38574.00000</td>\n",
       "      <td>27769.000000</td>\n",
       "      <td>50096.000000</td>\n",
       "      <td>5.955400e+04</td>\n",
       "      <td>4.228600e+04</td>\n",
       "      <td>5.955400e+04</td>\n",
       "      <td>22509.000000</td>\n",
       "    </tr>\n",
       "    <tr>\n",
       "      <th>mean</th>\n",
       "      <td>1.054606e+34</td>\n",
       "      <td>1.176807e+35</td>\n",
       "      <td>8.353151e+34</td>\n",
       "      <td>4.720619e+34</td>\n",
       "      <td>6.04649</td>\n",
       "      <td>0.844967</td>\n",
       "      <td>15.861593</td>\n",
       "      <td>3.232452e+35</td>\n",
       "      <td>4.162410e+04</td>\n",
       "      <td>2.389771e+36</td>\n",
       "      <td>5434.251941</td>\n",
       "    </tr>\n",
       "    <tr>\n",
       "      <th>std</th>\n",
       "      <td>3.240779e+35</td>\n",
       "      <td>1.076733e+36</td>\n",
       "      <td>9.087241e+35</td>\n",
       "      <td>6.843886e+35</td>\n",
       "      <td>8.53609</td>\n",
       "      <td>5.782614</td>\n",
       "      <td>9.226285</td>\n",
       "      <td>1.765804e+36</td>\n",
       "      <td>7.104746e+04</td>\n",
       "      <td>4.255987e+36</td>\n",
       "      <td>14498.577802</td>\n",
       "    </tr>\n",
       "    <tr>\n",
       "      <th>min</th>\n",
       "      <td>1.987000e+03</td>\n",
       "      <td>1.000000e+00</td>\n",
       "      <td>-7.805000e+01</td>\n",
       "      <td>5.982900e-01</td>\n",
       "      <td>-0.05600</td>\n",
       "      <td>-0.040000</td>\n",
       "      <td>-1.976000</td>\n",
       "      <td>0.000000e+00</td>\n",
       "      <td>0.000000e+00</td>\n",
       "      <td>0.000000e+00</td>\n",
       "      <td>0.000000</td>\n",
       "    </tr>\n",
       "    <tr>\n",
       "      <th>25%</th>\n",
       "      <td>1.995000e+03</td>\n",
       "      <td>1.160000e+02</td>\n",
       "      <td>2.000000e+00</td>\n",
       "      <td>1.668100e+02</td>\n",
       "      <td>0.12000</td>\n",
       "      <td>0.230000</td>\n",
       "      <td>8.550000</td>\n",
       "      <td>1.800000e+01</td>\n",
       "      <td>0.000000e+00</td>\n",
       "      <td>6.460000e+02</td>\n",
       "      <td>562.874252</td>\n",
       "    </tr>\n",
       "    <tr>\n",
       "      <th>50%</th>\n",
       "      <td>1.999000e+03</td>\n",
       "      <td>1.950000e+02</td>\n",
       "      <td>3.300000e+01</td>\n",
       "      <td>2.358200e+02</td>\n",
       "      <td>2.59550</td>\n",
       "      <td>0.510000</td>\n",
       "      <td>16.364500</td>\n",
       "      <td>5.000000e+01</td>\n",
       "      <td>2.716000e+03</td>\n",
       "      <td>6.825300e+03</td>\n",
       "      <td>1913.200000</td>\n",
       "    </tr>\n",
       "    <tr>\n",
       "      <th>75%</th>\n",
       "      <td>2.003000e+03</td>\n",
       "      <td>2.940000e+02</td>\n",
       "      <td>4.341700e+01</td>\n",
       "      <td>3.004400e+02</td>\n",
       "      <td>8.26000</td>\n",
       "      <td>0.915134</td>\n",
       "      <td>24.048000</td>\n",
       "      <td>1.000000e+02</td>\n",
       "      <td>5.530600e+04</td>\n",
       "      <td>1.329210e+05</td>\n",
       "      <td>5698.000000</td>\n",
       "    </tr>\n",
       "    <tr>\n",
       "      <th>max</th>\n",
       "      <td>9.969210e+36</td>\n",
       "      <td>9.969210e+36</td>\n",
       "      <td>9.969210e+36</td>\n",
       "      <td>9.969210e+36</td>\n",
       "      <td>147.35000</td>\n",
       "      <td>367.000000</td>\n",
       "      <td>35.430000</td>\n",
       "      <td>9.969210e+36</td>\n",
       "      <td>1.820000e+06</td>\n",
       "      <td>9.969210e+36</td>\n",
       "      <td>576000.000000</td>\n",
       "    </tr>\n",
       "  </tbody>\n",
       "</table>\n",
       "</div>"
      ],
      "text/plain": [
       "               Year           Day      Latitude     Longitude  \\\n",
       "count  5.955400e+04  5.955400e+04  5.955400e+04  5.955400e+04   \n",
       "mean   1.054606e+34  1.176807e+35  8.353151e+34  4.720619e+34   \n",
       "std    3.240779e+35  1.076733e+36  9.087241e+35  6.843886e+35   \n",
       "min    1.987000e+03  1.000000e+00 -7.805000e+01  5.982900e-01   \n",
       "25%    1.995000e+03  1.160000e+02  2.000000e+00  1.668100e+02   \n",
       "50%    1.999000e+03  1.950000e+02  3.300000e+01  2.358200e+02   \n",
       "75%    2.003000e+03  2.940000e+02  4.341700e+01  3.004400e+02   \n",
       "max    9.969210e+36  9.969210e+36  9.969210e+36  9.969210e+36   \n",
       "\n",
       "       Nitrite_Nitrate     Phosphate   Temperature         Depth  \\\n",
       "count      38574.00000  27769.000000  50096.000000  5.955400e+04   \n",
       "mean           6.04649      0.844967     15.861593  3.232452e+35   \n",
       "std            8.53609      5.782614      9.226285  1.765804e+36   \n",
       "min           -0.05600     -0.040000     -1.976000  0.000000e+00   \n",
       "25%            0.12000      0.230000      8.550000  1.800000e+01   \n",
       "50%            2.59550      0.510000     16.364500  5.000000e+01   \n",
       "75%            8.26000      0.915134     24.048000  1.000000e+02   \n",
       "max          147.35000    367.000000     35.430000  9.969210e+36   \n",
       "\n",
       "       Prochlorococcus  Synechococcus  Pico_eukaryotes  \n",
       "count     4.228600e+04   5.955400e+04     22509.000000  \n",
       "mean      4.162410e+04   2.389771e+36      5434.251941  \n",
       "std       7.104746e+04   4.255987e+36     14498.577802  \n",
       "min       0.000000e+00   0.000000e+00         0.000000  \n",
       "25%       0.000000e+00   6.460000e+02       562.874252  \n",
       "50%       2.716000e+03   6.825300e+03      1913.200000  \n",
       "75%       5.530600e+04   1.329210e+05      5698.000000  \n",
       "max       1.820000e+06   9.969210e+36    576000.000000  "
      ]
     },
     "execution_count": 85,
     "metadata": {},
     "output_type": "execute_result"
    }
   ],
   "source": [
    "flom_df.describe()"
   ]
  },
  {
   "cell_type": "markdown",
   "metadata": {},
   "source": [
    "We know from the above that we have ```59554``` measurements in total. However, given the values for the mean, standard deviation and max values, we can see that a number of these values seem suspcicious. \n",
    "\n",
    "For example, from the documentation, we know that the data were collected from 1987 to 2008, so the highest year value should be ```2.008e+03```, rather than ```9.969210e+36```. A good place to start would be to see how many rows have been given a year greater than 2008. "
   ]
  },
  {
   "cell_type": "code",
   "execution_count": 96,
   "metadata": {},
   "outputs": [
    {
     "data": {
      "text/plain": [
       "63"
      ]
     },
     "execution_count": 96,
     "metadata": {},
     "output_type": "execute_result"
    }
   ],
   "source": [
    "len(flom_df[flom_df['Year'] > 2.008e+03])\n"
   ]
  },
  {
   "cell_type": "code",
   "execution_count": 98,
   "metadata": {},
   "outputs": [
    {
     "name": "stdout",
     "output_type": "stream",
     "text": [
      "                   Year           Day      Latitude     Longitude  \\\n",
      "unlimited                                                           \n",
      "20102      9.969210e+36  9.969210e+36  9.969210e+36  7.866700e+00   \n",
      "20103      9.969210e+36  9.969210e+36  9.969210e+36  7.866700e+00   \n",
      "20104      9.969210e+36  9.969210e+36  9.969210e+36  7.866700e+00   \n",
      "20105      9.969210e+36  9.969210e+36  9.969210e+36  7.866700e+00   \n",
      "20106      9.969210e+36  9.969210e+36  9.969210e+36  7.866700e+00   \n",
      "...                 ...           ...           ...           ...   \n",
      "31049      9.969210e+36  9.969210e+36  9.969210e+36  9.969210e+36   \n",
      "31050      9.969210e+36  9.969210e+36  9.969210e+36  9.969210e+36   \n",
      "31051      9.969210e+36  9.969210e+36  9.969210e+36  9.969210e+36   \n",
      "31052      9.969210e+36  9.969210e+36  9.969210e+36  9.969210e+36   \n",
      "31053      9.969210e+36  9.969210e+36  9.969210e+36  9.969210e+36   \n",
      "\n",
      "           Nitrite_Nitrate  Phosphate  Temperature  Depth  Prochlorococcus  \\\n",
      "unlimited                                                                    \n",
      "20102                  0.0        NaN          NaN    5.0          22371.0   \n",
      "20103                  0.0        NaN          NaN   10.0          19756.0   \n",
      "20104                  0.0        NaN          NaN   20.0          16587.0   \n",
      "20105                  0.0        NaN          NaN   30.0          15359.0   \n",
      "20106                  0.0        NaN          NaN   40.0          13075.0   \n",
      "...                    ...        ...          ...    ...              ...   \n",
      "31049                  0.0        NaN          NaN   90.0              NaN   \n",
      "31050                  0.0        NaN          NaN  101.8              NaN   \n",
      "31051                  0.0        NaN          NaN  121.9              NaN   \n",
      "31052                  0.0        NaN          NaN  161.4              NaN   \n",
      "31053                  0.0        NaN          NaN  201.0              NaN   \n",
      "\n",
      "           Synechococcus  Pico_eukaryotes  \n",
      "unlimited                                  \n",
      "20102       9.969210e+36           3941.0  \n",
      "20103       9.969210e+36           4500.0  \n",
      "20104       9.969210e+36           4744.0  \n",
      "20105       9.969210e+36           4188.0  \n",
      "20106       9.969210e+36           4245.0  \n",
      "...                  ...              ...  \n",
      "31049       9.969210e+36              NaN  \n",
      "31050       9.969210e+36              NaN  \n",
      "31051       9.969210e+36              NaN  \n",
      "31052       9.969210e+36              NaN  \n",
      "31053       9.969210e+36              NaN  \n",
      "\n",
      "[63 rows x 11 columns]\n"
     ]
    }
   ],
   "source": [
    "print(flom_df[flom_df['Year'] > 2.008e+03])"
   ]
  },
  {
   "cell_type": "markdown",
   "metadata": {},
   "source": [
    "We can see that 63 rows have been given the value ```9.969210e+36``` and that this persists across multiple columns. On further examination, it seems that this particular value is a default that signifies a missing value. Thus, we can go ahead and drop all rows with ```9.969210e+36``` as the year."
   ]
  },
  {
   "cell_type": "code",
   "execution_count": 99,
   "metadata": {},
   "outputs": [
    {
     "data": {
      "text/html": [
       "<div>\n",
       "<style scoped>\n",
       "    .dataframe tbody tr th:only-of-type {\n",
       "        vertical-align: middle;\n",
       "    }\n",
       "\n",
       "    .dataframe tbody tr th {\n",
       "        vertical-align: top;\n",
       "    }\n",
       "\n",
       "    .dataframe thead th {\n",
       "        text-align: right;\n",
       "    }\n",
       "</style>\n",
       "<table border=\"1\" class=\"dataframe\">\n",
       "  <thead>\n",
       "    <tr style=\"text-align: right;\">\n",
       "      <th></th>\n",
       "      <th>Year</th>\n",
       "      <th>Day</th>\n",
       "      <th>Latitude</th>\n",
       "      <th>Longitude</th>\n",
       "      <th>Nitrite_Nitrate</th>\n",
       "      <th>Phosphate</th>\n",
       "      <th>Temperature</th>\n",
       "      <th>Depth</th>\n",
       "      <th>Prochlorococcus</th>\n",
       "      <th>Synechococcus</th>\n",
       "      <th>Pico_eukaryotes</th>\n",
       "    </tr>\n",
       "  </thead>\n",
       "  <tbody>\n",
       "    <tr>\n",
       "      <th>count</th>\n",
       "      <td>59491.000000</td>\n",
       "      <td>5.949100e+04</td>\n",
       "      <td>5.949100e+04</td>\n",
       "      <td>5.949100e+04</td>\n",
       "      <td>38511.000000</td>\n",
       "      <td>27769.000000</td>\n",
       "      <td>50096.000000</td>\n",
       "      <td>5.949100e+04</td>\n",
       "      <td>4.227800e+04</td>\n",
       "      <td>5.949100e+04</td>\n",
       "      <td>22498.000000</td>\n",
       "    </tr>\n",
       "    <tr>\n",
       "      <th>mean</th>\n",
       "      <td>1998.853087</td>\n",
       "      <td>1.072481e+35</td>\n",
       "      <td>7.306274e+34</td>\n",
       "      <td>3.870985e+34</td>\n",
       "      <td>6.056382</td>\n",
       "      <td>0.844967</td>\n",
       "      <td>15.861593</td>\n",
       "      <td>3.235875e+35</td>\n",
       "      <td>4.162873e+04</td>\n",
       "      <td>2.381745e+36</td>\n",
       "      <td>5435.356740</td>\n",
       "    </tr>\n",
       "    <tr>\n",
       "      <th>std</th>\n",
       "      <td>4.591027</td>\n",
       "      <td>1.028443e+36</td>\n",
       "      <td>8.503245e+35</td>\n",
       "      <td>6.200118e+35</td>\n",
       "      <td>8.539563</td>\n",
       "      <td>5.782614</td>\n",
       "      <td>9.226285</td>\n",
       "      <td>1.766708e+36</td>\n",
       "      <td>7.105337e+04</td>\n",
       "      <td>4.251083e+36</td>\n",
       "      <td>14501.989998</td>\n",
       "    </tr>\n",
       "    <tr>\n",
       "      <th>min</th>\n",
       "      <td>1987.000000</td>\n",
       "      <td>1.000000e+00</td>\n",
       "      <td>-7.805000e+01</td>\n",
       "      <td>5.982900e-01</td>\n",
       "      <td>-0.056000</td>\n",
       "      <td>-0.040000</td>\n",
       "      <td>-1.976000</td>\n",
       "      <td>0.000000e+00</td>\n",
       "      <td>0.000000e+00</td>\n",
       "      <td>0.000000e+00</td>\n",
       "      <td>0.000000</td>\n",
       "    </tr>\n",
       "    <tr>\n",
       "      <th>25%</th>\n",
       "      <td>1995.000000</td>\n",
       "      <td>1.160000e+02</td>\n",
       "      <td>1.998800e+00</td>\n",
       "      <td>1.668050e+02</td>\n",
       "      <td>0.120000</td>\n",
       "      <td>0.230000</td>\n",
       "      <td>8.550000</td>\n",
       "      <td>1.800000e+01</td>\n",
       "      <td>0.000000e+00</td>\n",
       "      <td>6.444697e+02</td>\n",
       "      <td>562.668563</td>\n",
       "    </tr>\n",
       "    <tr>\n",
       "      <th>50%</th>\n",
       "      <td>1999.000000</td>\n",
       "      <td>1.940000e+02</td>\n",
       "      <td>3.300000e+01</td>\n",
       "      <td>2.358200e+02</td>\n",
       "      <td>2.609000</td>\n",
       "      <td>0.510000</td>\n",
       "      <td>16.364500</td>\n",
       "      <td>5.000000e+01</td>\n",
       "      <td>2.712000e+03</td>\n",
       "      <td>6.800000e+03</td>\n",
       "      <td>1911.445000</td>\n",
       "    </tr>\n",
       "    <tr>\n",
       "      <th>75%</th>\n",
       "      <td>2003.000000</td>\n",
       "      <td>2.940000e+02</td>\n",
       "      <td>4.341700e+01</td>\n",
       "      <td>3.004400e+02</td>\n",
       "      <td>8.275000</td>\n",
       "      <td>0.915134</td>\n",
       "      <td>24.048000</td>\n",
       "      <td>1.000000e+02</td>\n",
       "      <td>5.532420e+04</td>\n",
       "      <td>1.280000e+05</td>\n",
       "      <td>5700.000000</td>\n",
       "    </tr>\n",
       "    <tr>\n",
       "      <th>max</th>\n",
       "      <td>2008.000000</td>\n",
       "      <td>9.969210e+36</td>\n",
       "      <td>9.969210e+36</td>\n",
       "      <td>9.969210e+36</td>\n",
       "      <td>147.350000</td>\n",
       "      <td>367.000000</td>\n",
       "      <td>35.430000</td>\n",
       "      <td>9.969210e+36</td>\n",
       "      <td>1.820000e+06</td>\n",
       "      <td>9.969210e+36</td>\n",
       "      <td>576000.000000</td>\n",
       "    </tr>\n",
       "  </tbody>\n",
       "</table>\n",
       "</div>"
      ],
      "text/plain": [
       "               Year           Day      Latitude     Longitude  \\\n",
       "count  59491.000000  5.949100e+04  5.949100e+04  5.949100e+04   \n",
       "mean    1998.853087  1.072481e+35  7.306274e+34  3.870985e+34   \n",
       "std        4.591027  1.028443e+36  8.503245e+35  6.200118e+35   \n",
       "min     1987.000000  1.000000e+00 -7.805000e+01  5.982900e-01   \n",
       "25%     1995.000000  1.160000e+02  1.998800e+00  1.668050e+02   \n",
       "50%     1999.000000  1.940000e+02  3.300000e+01  2.358200e+02   \n",
       "75%     2003.000000  2.940000e+02  4.341700e+01  3.004400e+02   \n",
       "max     2008.000000  9.969210e+36  9.969210e+36  9.969210e+36   \n",
       "\n",
       "       Nitrite_Nitrate     Phosphate   Temperature         Depth  \\\n",
       "count     38511.000000  27769.000000  50096.000000  5.949100e+04   \n",
       "mean          6.056382      0.844967     15.861593  3.235875e+35   \n",
       "std           8.539563      5.782614      9.226285  1.766708e+36   \n",
       "min          -0.056000     -0.040000     -1.976000  0.000000e+00   \n",
       "25%           0.120000      0.230000      8.550000  1.800000e+01   \n",
       "50%           2.609000      0.510000     16.364500  5.000000e+01   \n",
       "75%           8.275000      0.915134     24.048000  1.000000e+02   \n",
       "max         147.350000    367.000000     35.430000  9.969210e+36   \n",
       "\n",
       "       Prochlorococcus  Synechococcus  Pico_eukaryotes  \n",
       "count     4.227800e+04   5.949100e+04     22498.000000  \n",
       "mean      4.162873e+04   2.381745e+36      5435.356740  \n",
       "std       7.105337e+04   4.251083e+36     14501.989998  \n",
       "min       0.000000e+00   0.000000e+00         0.000000  \n",
       "25%       0.000000e+00   6.444697e+02       562.668563  \n",
       "50%       2.712000e+03   6.800000e+03      1911.445000  \n",
       "75%       5.532420e+04   1.280000e+05      5700.000000  \n",
       "max       1.820000e+06   9.969210e+36    576000.000000  "
      ]
     },
     "execution_count": 99,
     "metadata": {},
     "output_type": "execute_result"
    }
   ],
   "source": [
    "new_dataframe = flom_df.query('Year <= 2.008e+03') \n",
    "new_dataframe.describe()"
   ]
  },
  {
   "cell_type": "markdown",
   "metadata": {},
   "source": [
    "The years with ```9.969210e+36``` values have been removed. However, we can see that some rows with this value still remain. \n",
    "\n",
    "In this case, we can go ahead and remove the 63 rows that have missing year values, because we can't use those. We will leave  the  rest in place for now, as some of the columns in that row may still have some useful data. \n",
    "\n",
    "<b> NOTE: </b> There are also some suspicious negative values for e.g. Temperature and Phosphate. We may need to return to this later, and remove or replace as appropriate. "
   ]
  },
  {
   "cell_type": "code",
   "execution_count": 101,
   "metadata": {},
   "outputs": [
    {
     "data": {
      "text/plain": [
       "Year               59491\n",
       "Day                59491\n",
       "Latitude           59491\n",
       "Longitude          59491\n",
       "Nitrite_Nitrate    38511\n",
       "Phosphate          27769\n",
       "Temperature        50096\n",
       "Depth              59491\n",
       "Prochlorococcus    42278\n",
       "Synechococcus      59491\n",
       "Pico_eukaryotes    22498\n",
       "dtype: int64"
      ]
     },
     "execution_count": 101,
     "metadata": {},
     "output_type": "execute_result"
    }
   ],
   "source": [
    "flom_df = new_dataframe\n",
    "flom_df.count()"
   ]
  },
  {
   "cell_type": "markdown",
   "metadata": {},
   "source": [
    "<h1> Data Processing </h1>"
   ]
  },
  {
   "cell_type": "markdown",
   "metadata": {},
   "source": [
    "Now that we have cleaned the data - to at least a preliminary standard - we can begin to process it accordingly. To start, we will create a measurements data including latitude, longitude and time. \n",
    "\n",
    "Before doing do, for the purposes of ease and comparison, we should create a function that maps the time as months, numbered from ```1 to 252```, such that Jan 1987 would be month 1 and Dec 2008 would be month 252.\n",
    "\n",
    "In the Flombaum dataset, measurements correspond to a given day, numbered ```1 to 366``` for each year. A reasonable approach might to create a new column that maps measurements days to a unique month, such that all measurements taken in Jan 1987 will be mapped to month 1, while all measurements taken in Jan 1988 will be mapped to month 13. "
   ]
  },
  {
   "cell_type": "markdown",
   "metadata": {},
   "source": [
    "Let's remove the missing values here too:"
   ]
  },
  {
   "cell_type": "code",
   "execution_count": 102,
   "metadata": {},
   "outputs": [
    {
     "data": {
      "text/html": [
       "<div>\n",
       "<style scoped>\n",
       "    .dataframe tbody tr th:only-of-type {\n",
       "        vertical-align: middle;\n",
       "    }\n",
       "\n",
       "    .dataframe tbody tr th {\n",
       "        vertical-align: top;\n",
       "    }\n",
       "\n",
       "    .dataframe thead th {\n",
       "        text-align: right;\n",
       "    }\n",
       "</style>\n",
       "<table border=\"1\" class=\"dataframe\">\n",
       "  <thead>\n",
       "    <tr style=\"text-align: right;\">\n",
       "      <th></th>\n",
       "      <th>Year</th>\n",
       "      <th>Day</th>\n",
       "      <th>Latitude</th>\n",
       "      <th>Longitude</th>\n",
       "      <th>Nitrite_Nitrate</th>\n",
       "      <th>Phosphate</th>\n",
       "      <th>Temperature</th>\n",
       "      <th>Depth</th>\n",
       "      <th>Prochlorococcus</th>\n",
       "      <th>Synechococcus</th>\n",
       "      <th>Pico_eukaryotes</th>\n",
       "    </tr>\n",
       "  </thead>\n",
       "  <tbody>\n",
       "    <tr>\n",
       "      <th>count</th>\n",
       "      <td>58851.000000</td>\n",
       "      <td>58851.000000</td>\n",
       "      <td>5.885100e+04</td>\n",
       "      <td>5.885100e+04</td>\n",
       "      <td>38149.000000</td>\n",
       "      <td>27762.000000</td>\n",
       "      <td>49990.000000</td>\n",
       "      <td>5.885100e+04</td>\n",
       "      <td>4.211400e+04</td>\n",
       "      <td>5.885100e+04</td>\n",
       "      <td>22296.000000</td>\n",
       "    </tr>\n",
       "    <tr>\n",
       "      <th>mean</th>\n",
       "      <td>1998.866340</td>\n",
       "      <td>196.805917</td>\n",
       "      <td>6.606501e+33</td>\n",
       "      <td>4.573731e+33</td>\n",
       "      <td>6.111545</td>\n",
       "      <td>0.845041</td>\n",
       "      <td>15.848734</td>\n",
       "      <td>3.249043e+35</td>\n",
       "      <td>4.151586e+04</td>\n",
       "      <td>2.322609e+36</td>\n",
       "      <td>5464.843287</td>\n",
       "    </tr>\n",
       "    <tr>\n",
       "      <th>std</th>\n",
       "      <td>4.588139</td>\n",
       "      <td>100.554015</td>\n",
       "      <td>2.565523e+35</td>\n",
       "      <td>2.134862e+35</td>\n",
       "      <td>8.560246</td>\n",
       "      <td>5.783340</td>\n",
       "      <td>9.225855</td>\n",
       "      <td>1.770178e+36</td>\n",
       "      <td>7.106104e+04</td>\n",
       "      <td>4.214305e+36</td>\n",
       "      <td>14561.975679</td>\n",
       "    </tr>\n",
       "    <tr>\n",
       "      <th>min</th>\n",
       "      <td>1987.000000</td>\n",
       "      <td>1.000000</td>\n",
       "      <td>-7.805000e+01</td>\n",
       "      <td>5.982900e-01</td>\n",
       "      <td>-0.056000</td>\n",
       "      <td>-0.040000</td>\n",
       "      <td>-1.976000</td>\n",
       "      <td>0.000000e+00</td>\n",
       "      <td>0.000000e+00</td>\n",
       "      <td>0.000000e+00</td>\n",
       "      <td>0.000000</td>\n",
       "    </tr>\n",
       "    <tr>\n",
       "      <th>25%</th>\n",
       "      <td>1995.000000</td>\n",
       "      <td>115.000000</td>\n",
       "      <td>1.005200e+00</td>\n",
       "      <td>1.670000e+02</td>\n",
       "      <td>0.140000</td>\n",
       "      <td>0.230000</td>\n",
       "      <td>8.539250</td>\n",
       "      <td>1.800000e+01</td>\n",
       "      <td>0.000000e+00</td>\n",
       "      <td>6.291500e+02</td>\n",
       "      <td>562.575000</td>\n",
       "    </tr>\n",
       "    <tr>\n",
       "      <th>50%</th>\n",
       "      <td>1999.000000</td>\n",
       "      <td>193.000000</td>\n",
       "      <td>3.291300e+01</td>\n",
       "      <td>2.358200e+02</td>\n",
       "      <td>2.677117</td>\n",
       "      <td>0.510000</td>\n",
       "      <td>16.350000</td>\n",
       "      <td>5.000000e+01</td>\n",
       "      <td>2.644000e+03</td>\n",
       "      <td>6.634500e+03</td>\n",
       "      <td>1926.000000</td>\n",
       "    </tr>\n",
       "    <tr>\n",
       "      <th>75%</th>\n",
       "      <td>2003.000000</td>\n",
       "      <td>293.000000</td>\n",
       "      <td>4.341700e+01</td>\n",
       "      <td>3.004400e+02</td>\n",
       "      <td>8.350000</td>\n",
       "      <td>0.915846</td>\n",
       "      <td>24.016750</td>\n",
       "      <td>1.000000e+02</td>\n",
       "      <td>5.481950e+04</td>\n",
       "      <td>1.060000e+05</td>\n",
       "      <td>5745.025000</td>\n",
       "    </tr>\n",
       "    <tr>\n",
       "      <th>max</th>\n",
       "      <td>2008.000000</td>\n",
       "      <td>366.000000</td>\n",
       "      <td>9.969210e+36</td>\n",
       "      <td>9.969210e+36</td>\n",
       "      <td>147.350000</td>\n",
       "      <td>367.000000</td>\n",
       "      <td>35.430000</td>\n",
       "      <td>9.969210e+36</td>\n",
       "      <td>1.820000e+06</td>\n",
       "      <td>9.969210e+36</td>\n",
       "      <td>576000.000000</td>\n",
       "    </tr>\n",
       "  </tbody>\n",
       "</table>\n",
       "</div>"
      ],
      "text/plain": [
       "               Year           Day      Latitude     Longitude  \\\n",
       "count  58851.000000  58851.000000  5.885100e+04  5.885100e+04   \n",
       "mean    1998.866340    196.805917  6.606501e+33  4.573731e+33   \n",
       "std        4.588139    100.554015  2.565523e+35  2.134862e+35   \n",
       "min     1987.000000      1.000000 -7.805000e+01  5.982900e-01   \n",
       "25%     1995.000000    115.000000  1.005200e+00  1.670000e+02   \n",
       "50%     1999.000000    193.000000  3.291300e+01  2.358200e+02   \n",
       "75%     2003.000000    293.000000  4.341700e+01  3.004400e+02   \n",
       "max     2008.000000    366.000000  9.969210e+36  9.969210e+36   \n",
       "\n",
       "       Nitrite_Nitrate     Phosphate   Temperature         Depth  \\\n",
       "count     38149.000000  27762.000000  49990.000000  5.885100e+04   \n",
       "mean          6.111545      0.845041     15.848734  3.249043e+35   \n",
       "std           8.560246      5.783340      9.225855  1.770178e+36   \n",
       "min          -0.056000     -0.040000     -1.976000  0.000000e+00   \n",
       "25%           0.140000      0.230000      8.539250  1.800000e+01   \n",
       "50%           2.677117      0.510000     16.350000  5.000000e+01   \n",
       "75%           8.350000      0.915846     24.016750  1.000000e+02   \n",
       "max         147.350000    367.000000     35.430000  9.969210e+36   \n",
       "\n",
       "       Prochlorococcus  Synechococcus  Pico_eukaryotes  \n",
       "count     4.211400e+04   5.885100e+04     22296.000000  \n",
       "mean      4.151586e+04   2.322609e+36      5464.843287  \n",
       "std       7.106104e+04   4.214305e+36     14561.975679  \n",
       "min       0.000000e+00   0.000000e+00         0.000000  \n",
       "25%       0.000000e+00   6.291500e+02       562.575000  \n",
       "50%       2.644000e+03   6.634500e+03      1926.000000  \n",
       "75%       5.481950e+04   1.060000e+05      5745.025000  \n",
       "max       1.820000e+06   9.969210e+36    576000.000000  "
      ]
     },
     "execution_count": 102,
     "metadata": {},
     "output_type": "execute_result"
    }
   ],
   "source": [
    "new_dataframe = flom_df.query('Day <= 9.96e+30') \n",
    "new_dataframe.describe()"
   ]
  },
  {
   "cell_type": "markdown",
   "metadata": {},
   "source": [
    "This confirms that ```366``` is the maximum number of days."
   ]
  },
  {
   "cell_type": "code",
   "execution_count": 103,
   "metadata": {},
   "outputs": [],
   "source": [
    "flom_df = new_dataframe"
   ]
  },
  {
   "cell_type": "markdown",
   "metadata": {},
   "source": [
    "<h1> Creating a Months' Column </h1>"
   ]
  },
  {
   "cell_type": "markdown",
   "metadata": {},
   "source": [
    "As mentioned in the introduction, we require a method for mapping the units of time from ```(years and days)``` to ```(months)```:"
   ]
  },
  {
   "cell_type": "code",
   "execution_count": 104,
   "metadata": {},
   "outputs": [],
   "source": [
    "def assign_months(year):\n",
    "    for i, row in flom_df.iterrows():\n",
    "        val = flom_df.loc[i, \"Year\"]\n",
    "        day = flom_df.loc[i, \"Day\"]\n",
    "        if val != year:\n",
    "            continue\n",
    "        else:\n",
    "            if  1.0 >= day < 31.0:\n",
    "                flom_df.loc[i, \"Month\"] = months[0]\n",
    "            elif 31.0 >= day < 60.0:\n",
    "                flom_df.loc[i, \"Month\"] = months[1]\n",
    "            elif 60.0 >= day < 91.0:\n",
    "                flom_df.loc[i, \"Month\"] = months[2]\n",
    "            elif 91.0 >= day < 121.0:\n",
    "                flom_df.loc[i, \"Month\"] = months[3]\n",
    "            elif 121.0 >= day < 152.0:\n",
    "                flom_df.loc[i, \"Month\"] = months[4]\n",
    "            elif 152.0 >= day < 182.0:\n",
    "                flom_df.loc[i, \"Month\"] = months[5]\n",
    "            elif 182.0 >= day < 213.0:\n",
    "                flom_df.loc[i, \"Month\"] = months[6]\n",
    "            elif 213.0 >= day < 244.0:\n",
    "                flom_df.loc[i, \"Month\"] = months[7]\n",
    "            elif 244.0 >= day < 275.0:\n",
    "                flom_df.loc[i, \"Month\"] = months[8]\n",
    "            elif 275.0 >= day < 306.0:\n",
    "                flom_df.loc[i, \"Month\"] = months[9]\n",
    "            elif 306.0 >= day < 336.0:\n",
    "                flom_df.loc[i, \"Month\"] = months[10]\n",
    "            else: \n",
    "                flom_df.loc[i, \"Month\"] = months[11]\n"
   ]
  },
  {
   "cell_type": "markdown",
   "metadata": {},
   "source": [
    "The function ```assign_months()``` takes a single year as an argument, and iterates through the dataframe. Once it has detected a row with that year, it checks the day the measurement was taken, and assigns a month according to a specified range. \n",
    "\n",
    "<h2> Creating Years' List and Months' Vector </h2>"
   ]
  },
  {
   "cell_type": "code",
   "execution_count": 106,
   "metadata": {},
   "outputs": [],
   "source": [
    "# Create list of floats for each year\n",
    "import pandas as pd\n",
    "\n",
    "years_list = []\n",
    "for i in np.arange(1987.0, 2009.0, 1):\n",
    "    years_list.append(i)\n",
    "\n",
    "# Create months vector that can be updated iteratively\n",
    "months = pd.Series([1,2,3,4,5,6,7,8,9,10,11,12])"
   ]
  },
  {
   "cell_type": "markdown",
   "metadata": {},
   "source": [
    "<h2> Assigning Months' based on Year and Day </h2>"
   ]
  },
  {
   "cell_type": "code",
   "execution_count": 107,
   "metadata": {},
   "outputs": [],
   "source": [
    "for year in years_list:\n",
    "    assign_months(year)\n",
    "    months = months + 12"
   ]
  },
  {
   "cell_type": "code",
   "execution_count": 109,
   "metadata": {},
   "outputs": [
    {
     "data": {
      "text/html": [
       "<div>\n",
       "<style scoped>\n",
       "    .dataframe tbody tr th:only-of-type {\n",
       "        vertical-align: middle;\n",
       "    }\n",
       "\n",
       "    .dataframe tbody tr th {\n",
       "        vertical-align: top;\n",
       "    }\n",
       "\n",
       "    .dataframe thead th {\n",
       "        text-align: right;\n",
       "    }\n",
       "</style>\n",
       "<table border=\"1\" class=\"dataframe\">\n",
       "  <thead>\n",
       "    <tr style=\"text-align: right;\">\n",
       "      <th></th>\n",
       "      <th>Year</th>\n",
       "      <th>Day</th>\n",
       "      <th>Latitude</th>\n",
       "      <th>Longitude</th>\n",
       "      <th>Nitrite_Nitrate</th>\n",
       "      <th>Phosphate</th>\n",
       "      <th>Temperature</th>\n",
       "      <th>Depth</th>\n",
       "      <th>Prochlorococcus</th>\n",
       "      <th>Synechococcus</th>\n",
       "      <th>Pico_eukaryotes</th>\n",
       "      <th>Month</th>\n",
       "    </tr>\n",
       "  </thead>\n",
       "  <tbody>\n",
       "    <tr>\n",
       "      <th>count</th>\n",
       "      <td>58851.000000</td>\n",
       "      <td>58851.000000</td>\n",
       "      <td>5.885100e+04</td>\n",
       "      <td>5.885100e+04</td>\n",
       "      <td>38149.000000</td>\n",
       "      <td>27762.000000</td>\n",
       "      <td>49990.000000</td>\n",
       "      <td>5.885100e+04</td>\n",
       "      <td>4.211400e+04</td>\n",
       "      <td>5.885100e+04</td>\n",
       "      <td>22296.000000</td>\n",
       "      <td>58851.000000</td>\n",
       "    </tr>\n",
       "    <tr>\n",
       "      <th>mean</th>\n",
       "      <td>1998.866340</td>\n",
       "      <td>196.805917</td>\n",
       "      <td>6.606501e+33</td>\n",
       "      <td>4.573731e+33</td>\n",
       "      <td>6.111545</td>\n",
       "      <td>0.845041</td>\n",
       "      <td>15.848734</td>\n",
       "      <td>3.249043e+35</td>\n",
       "      <td>4.151586e+04</td>\n",
       "      <td>2.322609e+36</td>\n",
       "      <td>5464.843287</td>\n",
       "      <td>150.276920</td>\n",
       "    </tr>\n",
       "    <tr>\n",
       "      <th>std</th>\n",
       "      <td>4.588139</td>\n",
       "      <td>100.554015</td>\n",
       "      <td>2.565523e+35</td>\n",
       "      <td>2.134862e+35</td>\n",
       "      <td>8.560246</td>\n",
       "      <td>5.783340</td>\n",
       "      <td>9.225855</td>\n",
       "      <td>1.770178e+36</td>\n",
       "      <td>7.106104e+04</td>\n",
       "      <td>4.214305e+36</td>\n",
       "      <td>14561.975679</td>\n",
       "      <td>54.814934</td>\n",
       "    </tr>\n",
       "    <tr>\n",
       "      <th>min</th>\n",
       "      <td>1987.000000</td>\n",
       "      <td>1.000000</td>\n",
       "      <td>-7.805000e+01</td>\n",
       "      <td>5.982900e-01</td>\n",
       "      <td>-0.056000</td>\n",
       "      <td>-0.040000</td>\n",
       "      <td>-1.976000</td>\n",
       "      <td>0.000000e+00</td>\n",
       "      <td>0.000000e+00</td>\n",
       "      <td>0.000000e+00</td>\n",
       "      <td>0.000000</td>\n",
       "      <td>10.000000</td>\n",
       "    </tr>\n",
       "    <tr>\n",
       "      <th>25%</th>\n",
       "      <td>1995.000000</td>\n",
       "      <td>115.000000</td>\n",
       "      <td>1.005200e+00</td>\n",
       "      <td>1.670000e+02</td>\n",
       "      <td>0.140000</td>\n",
       "      <td>0.230000</td>\n",
       "      <td>8.539250</td>\n",
       "      <td>1.800000e+01</td>\n",
       "      <td>0.000000e+00</td>\n",
       "      <td>6.291500e+02</td>\n",
       "      <td>562.575000</td>\n",
       "      <td>106.000000</td>\n",
       "    </tr>\n",
       "    <tr>\n",
       "      <th>50%</th>\n",
       "      <td>1999.000000</td>\n",
       "      <td>193.000000</td>\n",
       "      <td>3.291300e+01</td>\n",
       "      <td>2.358200e+02</td>\n",
       "      <td>2.677117</td>\n",
       "      <td>0.510000</td>\n",
       "      <td>16.350000</td>\n",
       "      <td>5.000000e+01</td>\n",
       "      <td>2.644000e+03</td>\n",
       "      <td>6.634500e+03</td>\n",
       "      <td>1926.000000</td>\n",
       "      <td>154.000000</td>\n",
       "    </tr>\n",
       "    <tr>\n",
       "      <th>75%</th>\n",
       "      <td>2003.000000</td>\n",
       "      <td>293.000000</td>\n",
       "      <td>4.341700e+01</td>\n",
       "      <td>3.004400e+02</td>\n",
       "      <td>8.350000</td>\n",
       "      <td>0.915846</td>\n",
       "      <td>24.016750</td>\n",
       "      <td>1.000000e+02</td>\n",
       "      <td>5.481950e+04</td>\n",
       "      <td>1.060000e+05</td>\n",
       "      <td>5745.025000</td>\n",
       "      <td>197.000000</td>\n",
       "    </tr>\n",
       "    <tr>\n",
       "      <th>max</th>\n",
       "      <td>2008.000000</td>\n",
       "      <td>366.000000</td>\n",
       "      <td>9.969210e+36</td>\n",
       "      <td>9.969210e+36</td>\n",
       "      <td>147.350000</td>\n",
       "      <td>367.000000</td>\n",
       "      <td>35.430000</td>\n",
       "      <td>9.969210e+36</td>\n",
       "      <td>1.820000e+06</td>\n",
       "      <td>9.969210e+36</td>\n",
       "      <td>576000.000000</td>\n",
       "      <td>264.000000</td>\n",
       "    </tr>\n",
       "  </tbody>\n",
       "</table>\n",
       "</div>"
      ],
      "text/plain": [
       "               Year           Day      Latitude     Longitude  \\\n",
       "count  58851.000000  58851.000000  5.885100e+04  5.885100e+04   \n",
       "mean    1998.866340    196.805917  6.606501e+33  4.573731e+33   \n",
       "std        4.588139    100.554015  2.565523e+35  2.134862e+35   \n",
       "min     1987.000000      1.000000 -7.805000e+01  5.982900e-01   \n",
       "25%     1995.000000    115.000000  1.005200e+00  1.670000e+02   \n",
       "50%     1999.000000    193.000000  3.291300e+01  2.358200e+02   \n",
       "75%     2003.000000    293.000000  4.341700e+01  3.004400e+02   \n",
       "max     2008.000000    366.000000  9.969210e+36  9.969210e+36   \n",
       "\n",
       "       Nitrite_Nitrate     Phosphate   Temperature         Depth  \\\n",
       "count     38149.000000  27762.000000  49990.000000  5.885100e+04   \n",
       "mean          6.111545      0.845041     15.848734  3.249043e+35   \n",
       "std           8.560246      5.783340      9.225855  1.770178e+36   \n",
       "min          -0.056000     -0.040000     -1.976000  0.000000e+00   \n",
       "25%           0.140000      0.230000      8.539250  1.800000e+01   \n",
       "50%           2.677117      0.510000     16.350000  5.000000e+01   \n",
       "75%           8.350000      0.915846     24.016750  1.000000e+02   \n",
       "max         147.350000    367.000000     35.430000  9.969210e+36   \n",
       "\n",
       "       Prochlorococcus  Synechococcus  Pico_eukaryotes         Month  \n",
       "count     4.211400e+04   5.885100e+04     22296.000000  58851.000000  \n",
       "mean      4.151586e+04   2.322609e+36      5464.843287    150.276920  \n",
       "std       7.106104e+04   4.214305e+36     14561.975679     54.814934  \n",
       "min       0.000000e+00   0.000000e+00         0.000000     10.000000  \n",
       "25%       0.000000e+00   6.291500e+02       562.575000    106.000000  \n",
       "50%       2.644000e+03   6.634500e+03      1926.000000    154.000000  \n",
       "75%       5.481950e+04   1.060000e+05      5745.025000    197.000000  \n",
       "max       1.820000e+06   9.969210e+36    576000.000000    264.000000  "
      ]
     },
     "execution_count": 109,
     "metadata": {},
     "output_type": "execute_result"
    }
   ],
   "source": [
    "flom_df.describe()"
   ]
  },
  {
   "cell_type": "code",
   "execution_count": 111,
   "metadata": {},
   "outputs": [
    {
     "data": {
      "text/html": [
       "<div>\n",
       "<style scoped>\n",
       "    .dataframe tbody tr th:only-of-type {\n",
       "        vertical-align: middle;\n",
       "    }\n",
       "\n",
       "    .dataframe tbody tr th {\n",
       "        vertical-align: top;\n",
       "    }\n",
       "\n",
       "    .dataframe thead th {\n",
       "        text-align: right;\n",
       "    }\n",
       "</style>\n",
       "<table border=\"1\" class=\"dataframe\">\n",
       "  <thead>\n",
       "    <tr style=\"text-align: right;\">\n",
       "      <th></th>\n",
       "      <th>Year</th>\n",
       "      <th>Day</th>\n",
       "      <th>Latitude</th>\n",
       "      <th>Longitude</th>\n",
       "      <th>Nitrite_Nitrate</th>\n",
       "      <th>Phosphate</th>\n",
       "      <th>Temperature</th>\n",
       "      <th>Depth</th>\n",
       "      <th>Prochlorococcus</th>\n",
       "      <th>Synechococcus</th>\n",
       "      <th>Pico_eukaryotes</th>\n",
       "      <th>Month</th>\n",
       "    </tr>\n",
       "    <tr>\n",
       "      <th>unlimited</th>\n",
       "      <th></th>\n",
       "      <th></th>\n",
       "      <th></th>\n",
       "      <th></th>\n",
       "      <th></th>\n",
       "      <th></th>\n",
       "      <th></th>\n",
       "      <th></th>\n",
       "      <th></th>\n",
       "      <th></th>\n",
       "      <th></th>\n",
       "      <th></th>\n",
       "    </tr>\n",
       "  </thead>\n",
       "  <tbody>\n",
       "    <tr>\n",
       "      <th>0</th>\n",
       "      <td>1997.0</td>\n",
       "      <td>8.0</td>\n",
       "      <td>16.370</td>\n",
       "      <td>119.95</td>\n",
       "      <td>NaN</td>\n",
       "      <td>NaN</td>\n",
       "      <td>NaN</td>\n",
       "      <td>0.5</td>\n",
       "      <td>NaN</td>\n",
       "      <td>39770.0</td>\n",
       "      <td>NaN</td>\n",
       "      <td>122.0</td>\n",
       "    </tr>\n",
       "    <tr>\n",
       "      <th>1</th>\n",
       "      <td>1997.0</td>\n",
       "      <td>9.0</td>\n",
       "      <td>16.348</td>\n",
       "      <td>119.93</td>\n",
       "      <td>NaN</td>\n",
       "      <td>NaN</td>\n",
       "      <td>NaN</td>\n",
       "      <td>0.5</td>\n",
       "      <td>NaN</td>\n",
       "      <td>15000.0</td>\n",
       "      <td>NaN</td>\n",
       "      <td>122.0</td>\n",
       "    </tr>\n",
       "    <tr>\n",
       "      <th>2</th>\n",
       "      <td>1997.0</td>\n",
       "      <td>14.0</td>\n",
       "      <td>16.460</td>\n",
       "      <td>119.92</td>\n",
       "      <td>NaN</td>\n",
       "      <td>NaN</td>\n",
       "      <td>NaN</td>\n",
       "      <td>0.5</td>\n",
       "      <td>NaN</td>\n",
       "      <td>880.0</td>\n",
       "      <td>NaN</td>\n",
       "      <td>122.0</td>\n",
       "    </tr>\n",
       "    <tr>\n",
       "      <th>3</th>\n",
       "      <td>1997.0</td>\n",
       "      <td>15.0</td>\n",
       "      <td>16.380</td>\n",
       "      <td>119.91</td>\n",
       "      <td>NaN</td>\n",
       "      <td>NaN</td>\n",
       "      <td>NaN</td>\n",
       "      <td>0.5</td>\n",
       "      <td>NaN</td>\n",
       "      <td>950.0</td>\n",
       "      <td>NaN</td>\n",
       "      <td>122.0</td>\n",
       "    </tr>\n",
       "    <tr>\n",
       "      <th>4</th>\n",
       "      <td>1997.0</td>\n",
       "      <td>24.0</td>\n",
       "      <td>16.348</td>\n",
       "      <td>119.93</td>\n",
       "      <td>NaN</td>\n",
       "      <td>NaN</td>\n",
       "      <td>NaN</td>\n",
       "      <td>0.5</td>\n",
       "      <td>NaN</td>\n",
       "      <td>2730.0</td>\n",
       "      <td>NaN</td>\n",
       "      <td>122.0</td>\n",
       "    </tr>\n",
       "  </tbody>\n",
       "</table>\n",
       "</div>"
      ],
      "text/plain": [
       "             Year   Day  Latitude  Longitude  Nitrite_Nitrate  Phosphate  \\\n",
       "unlimited                                                                  \n",
       "0          1997.0   8.0    16.370     119.95              NaN        NaN   \n",
       "1          1997.0   9.0    16.348     119.93              NaN        NaN   \n",
       "2          1997.0  14.0    16.460     119.92              NaN        NaN   \n",
       "3          1997.0  15.0    16.380     119.91              NaN        NaN   \n",
       "4          1997.0  24.0    16.348     119.93              NaN        NaN   \n",
       "\n",
       "           Temperature  Depth  Prochlorococcus  Synechococcus  \\\n",
       "unlimited                                                       \n",
       "0                  NaN    0.5              NaN        39770.0   \n",
       "1                  NaN    0.5              NaN        15000.0   \n",
       "2                  NaN    0.5              NaN          880.0   \n",
       "3                  NaN    0.5              NaN          950.0   \n",
       "4                  NaN    0.5              NaN         2730.0   \n",
       "\n",
       "           Pico_eukaryotes  Month  \n",
       "unlimited                          \n",
       "0                      NaN  122.0  \n",
       "1                      NaN  122.0  \n",
       "2                      NaN  122.0  \n",
       "3                      NaN  122.0  \n",
       "4                      NaN  122.0  "
      ]
     },
     "execution_count": 111,
     "metadata": {},
     "output_type": "execute_result"
    }
   ],
   "source": [
    "flom_df.head()"
   ]
  },
  {
   "cell_type": "code",
   "execution_count": 112,
   "metadata": {},
   "outputs": [
    {
     "data": {
      "text/html": [
       "<div>\n",
       "<style scoped>\n",
       "    .dataframe tbody tr th:only-of-type {\n",
       "        vertical-align: middle;\n",
       "    }\n",
       "\n",
       "    .dataframe tbody tr th {\n",
       "        vertical-align: top;\n",
       "    }\n",
       "\n",
       "    .dataframe thead th {\n",
       "        text-align: right;\n",
       "    }\n",
       "</style>\n",
       "<table border=\"1\" class=\"dataframe\">\n",
       "  <thead>\n",
       "    <tr style=\"text-align: right;\">\n",
       "      <th></th>\n",
       "      <th>Year</th>\n",
       "      <th>Day</th>\n",
       "      <th>Latitude</th>\n",
       "      <th>Longitude</th>\n",
       "      <th>Nitrite_Nitrate</th>\n",
       "      <th>Phosphate</th>\n",
       "      <th>Temperature</th>\n",
       "      <th>Depth</th>\n",
       "      <th>Prochlorococcus</th>\n",
       "      <th>Synechococcus</th>\n",
       "      <th>Pico_eukaryotes</th>\n",
       "      <th>Month</th>\n",
       "    </tr>\n",
       "    <tr>\n",
       "      <th>unlimited</th>\n",
       "      <th></th>\n",
       "      <th></th>\n",
       "      <th></th>\n",
       "      <th></th>\n",
       "      <th></th>\n",
       "      <th></th>\n",
       "      <th></th>\n",
       "      <th></th>\n",
       "      <th></th>\n",
       "      <th></th>\n",
       "      <th></th>\n",
       "      <th></th>\n",
       "    </tr>\n",
       "  </thead>\n",
       "  <tbody>\n",
       "    <tr>\n",
       "      <th>59549</th>\n",
       "      <td>1994.0</td>\n",
       "      <td>178.0</td>\n",
       "      <td>43.830556</td>\n",
       "      <td>297.180556</td>\n",
       "      <td>8.58</td>\n",
       "      <td>0.87</td>\n",
       "      <td>3.54</td>\n",
       "      <td>42.0</td>\n",
       "      <td>NaN</td>\n",
       "      <td>9.969210e+36</td>\n",
       "      <td>4040.0</td>\n",
       "      <td>91.0</td>\n",
       "    </tr>\n",
       "    <tr>\n",
       "      <th>59550</th>\n",
       "      <td>1994.0</td>\n",
       "      <td>178.0</td>\n",
       "      <td>43.830556</td>\n",
       "      <td>297.180556</td>\n",
       "      <td>20.09</td>\n",
       "      <td>1.24</td>\n",
       "      <td>6.92</td>\n",
       "      <td>63.0</td>\n",
       "      <td>NaN</td>\n",
       "      <td>9.969210e+36</td>\n",
       "      <td>274.9</td>\n",
       "      <td>91.0</td>\n",
       "    </tr>\n",
       "    <tr>\n",
       "      <th>59551</th>\n",
       "      <td>1994.0</td>\n",
       "      <td>178.0</td>\n",
       "      <td>43.830556</td>\n",
       "      <td>297.180556</td>\n",
       "      <td>NaN</td>\n",
       "      <td>NaN</td>\n",
       "      <td>8.38</td>\n",
       "      <td>75.0</td>\n",
       "      <td>NaN</td>\n",
       "      <td>9.969210e+36</td>\n",
       "      <td>NaN</td>\n",
       "      <td>91.0</td>\n",
       "    </tr>\n",
       "    <tr>\n",
       "      <th>59552</th>\n",
       "      <td>1994.0</td>\n",
       "      <td>178.0</td>\n",
       "      <td>43.830556</td>\n",
       "      <td>297.180556</td>\n",
       "      <td>27.32</td>\n",
       "      <td>1.25</td>\n",
       "      <td>9.80</td>\n",
       "      <td>100.0</td>\n",
       "      <td>NaN</td>\n",
       "      <td>9.969210e+36</td>\n",
       "      <td>113900.0</td>\n",
       "      <td>91.0</td>\n",
       "    </tr>\n",
       "    <tr>\n",
       "      <th>59553</th>\n",
       "      <td>1994.0</td>\n",
       "      <td>178.0</td>\n",
       "      <td>43.830556</td>\n",
       "      <td>297.180556</td>\n",
       "      <td>38.82</td>\n",
       "      <td>1.48</td>\n",
       "      <td>10.42</td>\n",
       "      <td>200.0</td>\n",
       "      <td>NaN</td>\n",
       "      <td>9.969210e+36</td>\n",
       "      <td>NaN</td>\n",
       "      <td>91.0</td>\n",
       "    </tr>\n",
       "  </tbody>\n",
       "</table>\n",
       "</div>"
      ],
      "text/plain": [
       "             Year    Day   Latitude   Longitude  Nitrite_Nitrate  Phosphate  \\\n",
       "unlimited                                                                     \n",
       "59549      1994.0  178.0  43.830556  297.180556             8.58       0.87   \n",
       "59550      1994.0  178.0  43.830556  297.180556            20.09       1.24   \n",
       "59551      1994.0  178.0  43.830556  297.180556              NaN        NaN   \n",
       "59552      1994.0  178.0  43.830556  297.180556            27.32       1.25   \n",
       "59553      1994.0  178.0  43.830556  297.180556            38.82       1.48   \n",
       "\n",
       "           Temperature  Depth  Prochlorococcus  Synechococcus  \\\n",
       "unlimited                                                       \n",
       "59549             3.54   42.0              NaN   9.969210e+36   \n",
       "59550             6.92   63.0              NaN   9.969210e+36   \n",
       "59551             8.38   75.0              NaN   9.969210e+36   \n",
       "59552             9.80  100.0              NaN   9.969210e+36   \n",
       "59553            10.42  200.0              NaN   9.969210e+36   \n",
       "\n",
       "           Pico_eukaryotes  Month  \n",
       "unlimited                          \n",
       "59549               4040.0   91.0  \n",
       "59550                274.9   91.0  \n",
       "59551                  NaN   91.0  \n",
       "59552             113900.0   91.0  \n",
       "59553                  NaN   91.0  "
      ]
     },
     "execution_count": 112,
     "metadata": {},
     "output_type": "execute_result"
    }
   ],
   "source": [
    "flom_df.tail()"
   ]
  },
  {
   "cell_type": "markdown",
   "metadata": {},
   "source": [
    "<h1> Matching Observations with Gridded Model </h1>"
   ]
  },
  {
   "cell_type": "markdown",
   "metadata": {},
   "source": [
    "<h2> Algorithmic Overview </h2> \n",
    "\n",
    "<ol>\n",
    "\n",
    "A. Read in a vector ```X```, ```Y``` and ```T``` of measurements' longitudes, latitudes, and time, respectively (all 1D vectors of size N). In this case, time, T, is in months ranging from 1 to 264. \n",
    "    \n",
    "\n",
    "B. Read in a vector ```x``` (1D, size n_x = 144) of grid cell center longitudes, a vector ```y``` (1D, size n_y = 90) of grid cell center latitudes, and a vector ```t``` of months (1D, size n_t = 12(months)*22(years from Jan 1987 to Jan 2009)).\n",
    "    \n",
    "    \n",
    "C. Create a 3D matrix of zeros I (size n_x, n_y, n_t) \n",
    "    \n",
    "\n",
    "D. Create a loop where j goes from 1 to N. For each measurement j, find the 3D index (ix,iy,it) where the absolute value of x(ix) is closest to X(j), the absolute value of y(iy) is closest to Y(j), and then also let it = T(j). Set I(ix,iy,it) = 1.\n",
    "\n",
    "</ol>\n"
   ]
  },
  {
   "cell_type": "markdown",
   "metadata": {},
   "source": [
    "<h3> Part A </h3>"
   ]
  },
  {
   "cell_type": "markdown",
   "metadata": {},
   "source": [
    "Creating a vector ```X```, ```Y``` and ```T``` of measurements' longitudes, latitudes, and time:"
   ]
  },
  {
   "cell_type": "code",
   "execution_count": 113,
   "metadata": {},
   "outputs": [
    {
     "name": "stdout",
     "output_type": "stream",
     "text": [
      " Measurements Lat:  (58851,) \n",
      " Measurements Lon:  (58851,) \n",
      " Measurements Time:  (58851,)\n"
     ]
    }
   ],
   "source": [
    "X = flom_df[\"Longitude\"][:]\n",
    "Y = flom_df[\"Latitude\"][:]\n",
    "T = flom_df[\"Month\"][:]\n",
    "\n",
    "print(\" Measurements Lat: \", X.shape, \"\\n\", \"Measurements Lon: \",  Y.shape, \"\\n\",  \"Measurements Time: \", T.shape)"
   ]
  },
  {
   "cell_type": "markdown",
   "metadata": {},
   "source": [
    "Before we go any further, let's create a function to check whether all the rows containing the default missing value ```9.969209968386869e+36``` have been removed, as these could cause problems with the following calculations. "
   ]
  },
  {
   "cell_type": "code",
   "execution_count": 114,
   "metadata": {},
   "outputs": [],
   "source": [
    "def count_nums(series, max_value):\n",
    "    total = 0\n",
    "    for e in series:\n",
    "        if e > max_value:\n",
    "            total += 1\n",
    "    print(\"Total out-of-bounds = \", total)"
   ]
  },
  {
   "cell_type": "code",
   "execution_count": 115,
   "metadata": {},
   "outputs": [
    {
     "name": "stdout",
     "output_type": "stream",
     "text": [
      "Total out-of-bounds =  27\n"
     ]
    }
   ],
   "source": [
    "count_nums(X, 360)"
   ]
  },
  {
   "cell_type": "code",
   "execution_count": 116,
   "metadata": {},
   "outputs": [
    {
     "name": "stdout",
     "output_type": "stream",
     "text": [
      "Total out-of-bounds =  39\n"
     ]
    }
   ],
   "source": [
    "count_nums(Y, 90)"
   ]
  },
  {
   "cell_type": "markdown",
   "metadata": {},
   "source": [
    "So we have 39 values that are out of bounds for ```Y```, and 27 for ```X```. Since we want all columns ```X```, ```Y``` and ```T``` to be equal in size, we'll concatenate the three vectors into a matrix, and remove all rows where both ```X``` and ```Y``` have out-of-bounds values:"
   ]
  },
  {
   "cell_type": "code",
   "execution_count": 117,
   "metadata": {},
   "outputs": [
    {
     "data": {
      "text/plain": [
       "(58851, 3)"
      ]
     },
     "execution_count": 117,
     "metadata": {},
     "output_type": "execute_result"
    }
   ],
   "source": [
    "test_matrix = np.vstack([X,Y,T]).T\n",
    "test_matrix.shape"
   ]
  },
  {
   "cell_type": "markdown",
   "metadata": {},
   "source": [
    "First, let's check is Y has any values greater than 90, but less than 360. If not, then we can go ahead and remove all values greater than 360 from the matrix."
   ]
  },
  {
   "cell_type": "code",
   "execution_count": 118,
   "metadata": {},
   "outputs": [
    {
     "name": "stdout",
     "output_type": "stream",
     "text": [
      "Total out-of-bounds =  39\n"
     ]
    }
   ],
   "source": [
    "count_nums(Y, 360)"
   ]
  },
  {
   "cell_type": "markdown",
   "metadata": {},
   "source": [
    "Great! Moving on:"
   ]
  },
  {
   "cell_type": "code",
   "execution_count": 119,
   "metadata": {},
   "outputs": [
    {
     "data": {
      "text/plain": [
       "66"
      ]
     },
     "execution_count": 119,
     "metadata": {},
     "output_type": "execute_result"
    }
   ],
   "source": [
    "out_bounds = np.where(test_matrix > 360)\n",
    "len(out_bounds[0])"
   ]
  },
  {
   "cell_type": "markdown",
   "metadata": {},
   "source": [
    "This seems reasonable, as ```39 + 27 = 66```, so let's remove those:"
   ]
  },
  {
   "cell_type": "code",
   "execution_count": 121,
   "metadata": {},
   "outputs": [
    {
     "data": {
      "text/plain": [
       "(58812, 3)"
      ]
     },
     "execution_count": 121,
     "metadata": {},
     "output_type": "execute_result"
    }
   ],
   "source": [
    "cleaned_matrix = np.delete(test_matrix, out_bounds[0], axis=0)\n",
    "cleaned_matrix.shape"
   ]
  },
  {
   "cell_type": "code",
   "execution_count": 122,
   "metadata": {},
   "outputs": [],
   "source": [
    "X = cleaned_matrix[:, 0]\n",
    "Y = cleaned_matrix[:, 1]\n",
    "T = cleaned_matrix[:, 2]"
   ]
  },
  {
   "cell_type": "code",
   "execution_count": 123,
   "metadata": {},
   "outputs": [
    {
     "name": "stdout",
     "output_type": "stream",
     "text": [
      " Measurements Lat:  (58812,) \n",
      " Measurements Lon:  (58812,) \n",
      " Measurements Time:  (58812,)\n"
     ]
    }
   ],
   "source": [
    "print(\" Measurements Lat: \", X.shape, \"\\n\", \n",
    "      \"Measurements Lon: \",  Y.shape, \"\\n\",  \n",
    "      \"Measurements Time: \", T.shape)"
   ]
  },
  {
   "cell_type": "code",
   "execution_count": 124,
   "metadata": {},
   "outputs": [
    {
     "name": "stdout",
     "output_type": "stream",
     "text": [
      "Min Lat: 0.59829  Max Lat: 359.92 (58812,) \n",
      "\n",
      "Min Lon: -78.05  Max Lon: 81.162 (58812,)\n"
     ]
    }
   ],
   "source": [
    "print(\"Min Lat:\", X.min(), \" Max Lat:\", X.max(), X.shape, \"\\n\")\n",
    "print(\"Min Lon:\", Y.min(), \" Max Lon:\", Y.max(), Y.shape)"
   ]
  },
  {
   "cell_type": "markdown",
   "metadata": {},
   "source": [
    "<h3> Part B </h3>"
   ]
  },
  {
   "cell_type": "markdown",
   "metadata": {},
   "source": [
    "Creating a vector ```x```, ```y``` and ```t``` of simulation grid longitudes, latitudes, and time ```(144, 90, 264)```:"
   ]
  },
  {
   "cell_type": "code",
   "execution_count": 125,
   "metadata": {},
   "outputs": [],
   "source": [
    "from netCDF4 import Dataset \n",
    "\n",
    "grid = Dataset('grid_igsm.nc', 'r')"
   ]
  },
  {
   "cell_type": "code",
   "execution_count": 126,
   "metadata": {},
   "outputs": [],
   "source": [
    "x = grid[\"X\"][:]\n",
    "y = grid[\"Y\"][:]\n",
    "t = np.arange(1, 265, 1)"
   ]
  },
  {
   "cell_type": "code",
   "execution_count": 129,
   "metadata": {},
   "outputs": [
    {
     "name": "stdout",
     "output_type": "stream",
     "text": [
      "1.25 358.75\n",
      "-89.5 88.5\n"
     ]
    }
   ],
   "source": [
    "print(x.min(), x.max())\n",
    "print(y.min(), y.max())"
   ]
  },
  {
   "cell_type": "code",
   "execution_count": 128,
   "metadata": {},
   "outputs": [
    {
     "name": "stdout",
     "output_type": "stream",
     "text": [
      " Grid Lat:  (144,) \n",
      " Grid Lon:  (90,) \n",
      " Grid Time:  (264,)\n"
     ]
    }
   ],
   "source": [
    "print(\" Grid Lat: \", x.shape, \"\\n\", \n",
    "      \"Grid Lon: \",  y.shape, \"\\n\",  \n",
    "      \"Grid Time: \", t.shape)"
   ]
  },
  {
   "cell_type": "markdown",
   "metadata": {},
   "source": [
    "<h3> Part C </h3>"
   ]
  },
  {
   "cell_type": "markdown",
   "metadata": {},
   "source": [
    "Creating a 3D matrix of zeros ```I(nx, ny, nt)```"
   ]
  },
  {
   "cell_type": "code",
   "execution_count": 130,
   "metadata": {},
   "outputs": [
    {
     "data": {
      "text/plain": [
       "(144, 90, 265)"
      ]
     },
     "execution_count": 130,
     "metadata": {},
     "output_type": "execute_result"
    }
   ],
   "source": [
    "I = np.zeros(shape=(144, 90, 265))\n",
    "I.shape"
   ]
  },
  {
   "cell_type": "markdown",
   "metadata": {},
   "source": [
    "<h3> Part D </h3>"
   ]
  },
  {
   "cell_type": "markdown",
   "metadata": {},
   "source": [
    "Creating a loop where j goes from ```1 to N```, and for each measurement ```j```, finding the 3D index ```(ix,iy,it)``` where the absolute value of observational data coordinate ```x(ix)``` is closest to simulation grid coordinate ```X(j)```, the absolute value of observational data coordinate ```y(iy)``` is closest to simulation grid coordinate```Y(j)```, and then letting ```it = T(j)```. Finally, setting ```I(ix,iy,it) = 1``` at the spatiotemporal location in the ```(144,90,265)``` simulation grid where observational data exists:"
   ]
  },
  {
   "cell_type": "code",
   "execution_count": 137,
   "metadata": {},
   "outputs": [
    {
     "name": "stdout",
     "output_type": "stream",
     "text": [
      "47 53 122 | 1.0 | 0.0\n",
      "47 53 116 | 1.0 | 0.0\n",
      "133 38 198 | 1.0 | 0.0\n",
      "132 48 198 | 1.0 | 0.0\n",
      "129 56 199 | 1.0 | 0.0\n",
      "135 66 199 | 1.0 | 0.0\n",
      "135 58 202 | 1.0 | 0.0\n",
      "134 37 202 | 1.0 | 0.0\n",
      "123 21 203 | 1.0 | 0.0\n",
      "129 26 210 | 1.0 | 0.0\n",
      "\n",
      " Model grid x[47] =  118.75 \n",
      " Model grid y[53] =  16.0 \n",
      "\n",
      " x[45:49]:  [113.75 116.25 118.75 121.25 123.75] \n",
      " y[51:55]:  [12. 14. 16. 18. 20.]\n"
     ]
    }
   ],
   "source": [
    "# Small scale sanity check:\n",
    "\n",
    "for j in range(0, 1000,  100):\n",
    "    ix = abs(X[j]-x).argmin()\n",
    "    iy = abs(Y[j]-y).argmin()\n",
    "    it = int(T[j])\n",
    "    I[ix,iy,it] = 1\n",
    "    \n",
    "    print(ix, iy, it, \"|\", I[ix,iy,it], \"|\", I[1,2,3])\n",
    "           \n",
    "\n",
    "print(\"\\n\", \"Model grid x[47] = \", x[47], \"\\n\", \"Model grid y[53] = \", y[53], \"\\n\")\n",
    "print(\" x[45:49]: \", x[45:50], \"\\n\", \"y[51:55]: \", y[51:56])"
   ]
  },
  {
   "cell_type": "markdown",
   "metadata": {},
   "source": [
    "We can see from the small scale test that we appear to be identifying the correct nearest indices for between grid cell coordinates and measurement coordinates in space. \n",
    "\n",
    "Now, we can perform the full computation for each measurement. We also include the month for each measurement (already calculated earlier), and, for each ix, iy and it, we change the relevant 3D index of our matrix of zeros, to a one, resulting in a binary matrix where each one represents a space and temporal coordinate where we an accompanying observational measurement. "
   ]
  },
  {
   "cell_type": "code",
   "execution_count": 138,
   "metadata": {},
   "outputs": [],
   "source": [
    "for j in range(0, 58812):\n",
    "    ix = abs(X[j]-x).argmin()\n",
    "    iy = abs(Y[j]-y).argmin()\n",
    "    it = int(T[j])  \n",
    "    I[ix,iy,it] = 1"
   ]
  },
  {
   "cell_type": "code",
   "execution_count": 139,
   "metadata": {},
   "outputs": [
    {
     "name": "stdout",
     "output_type": "stream",
     "text": [
      "Total Space-Time Volume =  3434400 \n",
      " Volume of Measurement Space =  4075\n"
     ]
    }
   ],
   "source": [
    "mes = np.where(I > 0)\n",
    "print(\"Total Space-Time Volume = \", 144*90*265, \"\\n\", \"Volume of Measurement Space = \", len(mes[0]))"
   ]
  },
  {
   "cell_type": "markdown",
   "metadata": {},
   "source": [
    "<h2> Creating a 3D Plot </h2>"
   ]
  },
  {
   "cell_type": "code",
   "execution_count": 140,
   "metadata": {},
   "outputs": [],
   "source": [
    "import matplotlib.pyplot as plt\n",
    "from mpl_toolkits.mplot3d import Axes3D\n",
    "import numpy as np\n",
    "import seaborn as sns\n",
    "\n",
    "pos = np.where(I==1)\n",
    "\n",
    "def scatter3d(x, y, z):\n",
    "#     for angle in range(0,360,2):\n",
    "    sns.set_style(\"whitegrid\", {'axes.grid' : False})\n",
    "    fig = plt.figure(figsize=(10,8))\n",
    "    ax = fig.add_subplot(111, projection='3d')\n",
    "#     ax.view_init(30,angle)\n",
    "    ax.grid(False)\n",
    "    ax.scatter(x, y, z, facecolor=(0,0,0,0), edgecolor='crimson')\n",
    "    ax.set_ylim(0, 90)\n",
    "    ax.set_xlabel('Longitude')\n",
    "    ax.set_ylabel('Latitude')\n",
    "    ax.set_zlabel('Months')\n",
    "    ax.set_title(\"Spatiotemporal Distribution of Observational Data (1987-2008)\", fontsize=15, y=1.02)\n",
    "#         filename='scatter3d/angle'+str(angle)+'.png'\n",
    "#         plt.savefig(filename, dpi=96)\n",
    "#     plt.clf()"
   ]
  },
  {
   "cell_type": "code",
   "execution_count": 142,
   "metadata": {},
   "outputs": [
    {
     "data": {
      "image/png": "[encoded data removed]",
      "text/plain": [
       "<Figure size 720x576 with 1 Axes>"
      ]
     },
     "metadata": {
      "image/png": {
       "height": 449,
       "width": 572
      }
     },
     "output_type": "display_data"
    }
   ],
   "source": [
    "%matplotlib inline \n",
    "%config InlineBackend.figure_format ='retina'  # retina quality plot\n",
    "\n",
    "scatter3d(mes[0], mes[1], mes[2])"
   ]
  },
  {
   "cell_type": "markdown",
   "metadata": {},
   "source": [
    "<b>NOTE:</b> To create animation, uncomment the commented lines in the ```scatter3d``` function, ensure imagemagik is downloaded, and run the following command in the directory with the png files, via terminal:\n",
    "\n",
    "```convert angle{0..360}.png filename.gif``` "
   ]
  }
 ],
 "metadata": {
  "kernelspec": {
   "display_name": "Python 3",
   "language": "python",
   "name": "python3"
  },
  "language_info": {
   "codemirror_mode": {
    "name": "ipython",
    "version": 3
   },
   "file_extension": ".py",
   "mimetype": "text/x-python",
   "name": "python",
   "nbconvert_exporter": "python",
   "pygments_lexer": "ipython3",
   "version": "3.7.6"
  }
 },
 "nbformat": 4,
 "nbformat_minor": 4
}
